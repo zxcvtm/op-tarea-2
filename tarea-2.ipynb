{
 "cells": [
  {
   "cell_type": "markdown",
   "id": "349723cd",
   "metadata": {},
   "source": [
    "# Tarea 2"
   ]
  },
  {
   "cell_type": "code",
   "execution_count": 11,
   "id": "4457bb7f",
   "metadata": {
    "scrolled": true
   },
   "outputs": [
    {
     "name": "stdout",
     "output_type": "stream",
     "text": [
      "['TSPGenetic.py', 'TSPGrasp.py', 'TSPGreedy.py', 'Tarea 2.ipynb', 'tsp1.txt', 'tsp2.txt', 'tsp3.txt', 'tsp4.txt']\n"
     ]
    }
   ],
   "source": [
    "files = !ls\n",
    "print(files)"
   ]
  },
  {
   "cell_type": "markdown",
   "id": "068240eb",
   "metadata": {},
   "source": [
    "## Funciones auxiliares"
   ]
  },
  {
   "cell_type": "code",
   "execution_count": 34,
   "id": "8d9cc212",
   "metadata": {},
   "outputs": [],
   "source": [
    "import re\n",
    "import pandas as pd\n",
    "\n",
    "def toDictionary(line):\n",
    "    return line.split(': ')\n",
    "\n",
    "def getResults(output):\n",
    "    results = list(map(toDictionary, output))\n",
    "    intermediateResults = []\n",
    "    finalResults = {}\n",
    "\n",
    "    for result in results:\n",
    "        if (re.search(\"Best distance on round \\d*\", result[0]) or re.search(\"Best distance on generation \\d*\", result[0])):\n",
    "            intermediateResults.append(float(result[1]))\n",
    "        if(result[0] == 'Total Distance' or result[0] == 'Road distance'):\n",
    "            finalResults['distance'] = float(result[1])\n",
    "        if(result[0] == 'Execution time'):\n",
    "            finalResults['time'] = float(result[1])\n",
    "    return [pd.DataFrame(intermediateResults, columns=['distance']), finalResults]"
   ]
  },
  {
   "cell_type": "markdown",
   "id": "d044d164",
   "metadata": {},
   "source": [
    "## Ejecución de TSPGreedy"
   ]
  },
  {
   "cell_type": "code",
   "execution_count": 39,
   "id": "d4149760",
   "metadata": {},
   "outputs": [
    {
     "data": {
      "text/html": [
       "<div>\n",
       "<style scoped>\n",
       "    .dataframe tbody tr th:only-of-type {\n",
       "        vertical-align: middle;\n",
       "    }\n",
       "\n",
       "    .dataframe tbody tr th {\n",
       "        vertical-align: top;\n",
       "    }\n",
       "\n",
       "    .dataframe thead th {\n",
       "        text-align: right;\n",
       "    }\n",
       "</style>\n",
       "<table border=\"1\" class=\"dataframe\">\n",
       "  <thead>\n",
       "    <tr style=\"text-align: right;\">\n",
       "      <th></th>\n",
       "      <th>distance</th>\n",
       "    </tr>\n",
       "  </thead>\n",
       "  <tbody>\n",
       "  </tbody>\n",
       "</table>\n",
       "</div>"
      ],
      "text/plain": [
       "Empty DataFrame\n",
       "Columns: [distance]\n",
       "Index: []"
      ]
     },
     "metadata": {},
     "output_type": "display_data"
    },
    {
     "name": "stdout",
     "output_type": "stream",
     "text": [
      "{'distance': 39964.11686816355, 'time': 0.0009160489999999744}\n"
     ]
    }
   ],
   "source": [
    "output = !python TSPGreedy.py tsp1.txt\n",
    "intermediateResults, finalResults = getResults(output)\n",
    "display(intermediateResults)\n",
    "print(finalResults)"
   ]
  },
  {
   "cell_type": "markdown",
   "id": "98a7b29b",
   "metadata": {},
   "source": [
    "## Ejecución de TSPGrasp"
   ]
  },
  {
   "cell_type": "code",
   "execution_count": 38,
   "id": "5dbc8ed4",
   "metadata": {
    "scrolled": false
   },
   "outputs": [
    {
     "data": {
      "text/html": [
       "<div>\n",
       "<style scoped>\n",
       "    .dataframe tbody tr th:only-of-type {\n",
       "        vertical-align: middle;\n",
       "    }\n",
       "\n",
       "    .dataframe tbody tr th {\n",
       "        vertical-align: top;\n",
       "    }\n",
       "\n",
       "    .dataframe thead th {\n",
       "        text-align: right;\n",
       "    }\n",
       "</style>\n",
       "<table border=\"1\" class=\"dataframe\">\n",
       "  <thead>\n",
       "    <tr style=\"text-align: right;\">\n",
       "      <th></th>\n",
       "      <th>distance</th>\n",
       "    </tr>\n",
       "  </thead>\n",
       "  <tbody>\n",
       "    <tr>\n",
       "      <th>0</th>\n",
       "      <td>59534.127321</td>\n",
       "    </tr>\n",
       "    <tr>\n",
       "      <th>1</th>\n",
       "      <td>59260.790446</td>\n",
       "    </tr>\n",
       "    <tr>\n",
       "      <th>2</th>\n",
       "      <td>59075.836392</td>\n",
       "    </tr>\n",
       "    <tr>\n",
       "      <th>3</th>\n",
       "      <td>58562.861336</td>\n",
       "    </tr>\n",
       "    <tr>\n",
       "      <th>4</th>\n",
       "      <td>57077.846791</td>\n",
       "    </tr>\n",
       "    <tr>\n",
       "      <th>...</th>\n",
       "      <td>...</td>\n",
       "    </tr>\n",
       "    <tr>\n",
       "      <th>247122</th>\n",
       "      <td>49950.493699</td>\n",
       "    </tr>\n",
       "    <tr>\n",
       "      <th>247123</th>\n",
       "      <td>49950.493699</td>\n",
       "    </tr>\n",
       "    <tr>\n",
       "      <th>247124</th>\n",
       "      <td>49950.493699</td>\n",
       "    </tr>\n",
       "    <tr>\n",
       "      <th>247125</th>\n",
       "      <td>49950.493699</td>\n",
       "    </tr>\n",
       "    <tr>\n",
       "      <th>247126</th>\n",
       "      <td>49950.493699</td>\n",
       "    </tr>\n",
       "  </tbody>\n",
       "</table>\n",
       "<p>247127 rows × 1 columns</p>\n",
       "</div>"
      ],
      "text/plain": [
       "            distance\n",
       "0       59534.127321\n",
       "1       59260.790446\n",
       "2       59075.836392\n",
       "3       58562.861336\n",
       "4       57077.846791\n",
       "...              ...\n",
       "247122  49950.493699\n",
       "247123  49950.493699\n",
       "247124  49950.493699\n",
       "247125  49950.493699\n",
       "247126  49950.493699\n",
       "\n",
       "[247127 rows x 1 columns]"
      ]
     },
     "metadata": {},
     "output_type": "display_data"
    },
    {
     "name": "stdout",
     "output_type": "stream",
     "text": [
      "{'distance': 49950.49369915191, 'time': 200.00021746299998}\n"
     ]
    }
   ],
   "source": [
    "rcl = 3\n",
    "output = !python TSPGrasp.py tsp1.txt {rcl}\n",
    "intermediateResults, finalResults = getResults(output)\n",
    "display(intermediateResults)\n",
    "print(finalResults)"
   ]
  },
  {
   "cell_type": "markdown",
   "id": "13e52ed3",
   "metadata": {},
   "source": [
    "## Ejecución de TSPGenetic"
   ]
  },
  {
   "cell_type": "code",
   "execution_count": 45,
   "id": "fec4d2a6",
   "metadata": {},
   "outputs": [
    {
     "data": {
      "text/html": [
       "<div>\n",
       "<style scoped>\n",
       "    .dataframe tbody tr th:only-of-type {\n",
       "        vertical-align: middle;\n",
       "    }\n",
       "\n",
       "    .dataframe tbody tr th {\n",
       "        vertical-align: top;\n",
       "    }\n",
       "\n",
       "    .dataframe thead th {\n",
       "        text-align: right;\n",
       "    }\n",
       "</style>\n",
       "<table border=\"1\" class=\"dataframe\">\n",
       "  <thead>\n",
       "    <tr style=\"text-align: right;\">\n",
       "      <th></th>\n",
       "      <th>distance</th>\n",
       "    </tr>\n",
       "  </thead>\n",
       "  <tbody>\n",
       "    <tr>\n",
       "      <th>0</th>\n",
       "      <td>144394.006862</td>\n",
       "    </tr>\n",
       "    <tr>\n",
       "      <th>1</th>\n",
       "      <td>144394.006862</td>\n",
       "    </tr>\n",
       "    <tr>\n",
       "      <th>2</th>\n",
       "      <td>144394.006862</td>\n",
       "    </tr>\n",
       "    <tr>\n",
       "      <th>3</th>\n",
       "      <td>144394.006862</td>\n",
       "    </tr>\n",
       "    <tr>\n",
       "      <th>4</th>\n",
       "      <td>144394.006862</td>\n",
       "    </tr>\n",
       "    <tr>\n",
       "      <th>...</th>\n",
       "      <td>...</td>\n",
       "    </tr>\n",
       "    <tr>\n",
       "      <th>1346297</th>\n",
       "      <td>47879.857011</td>\n",
       "    </tr>\n",
       "    <tr>\n",
       "      <th>1346298</th>\n",
       "      <td>47879.857011</td>\n",
       "    </tr>\n",
       "    <tr>\n",
       "      <th>1346299</th>\n",
       "      <td>47879.857011</td>\n",
       "    </tr>\n",
       "    <tr>\n",
       "      <th>1346300</th>\n",
       "      <td>47879.857011</td>\n",
       "    </tr>\n",
       "    <tr>\n",
       "      <th>1346301</th>\n",
       "      <td>47879.857011</td>\n",
       "    </tr>\n",
       "  </tbody>\n",
       "</table>\n",
       "<p>1346302 rows × 1 columns</p>\n",
       "</div>"
      ],
      "text/plain": [
       "              distance\n",
       "0        144394.006862\n",
       "1        144394.006862\n",
       "2        144394.006862\n",
       "3        144394.006862\n",
       "4        144394.006862\n",
       "...                ...\n",
       "1346297   47879.857011\n",
       "1346298   47879.857011\n",
       "1346299   47879.857011\n",
       "1346300   47879.857011\n",
       "1346301   47879.857011\n",
       "\n",
       "[1346302 rows x 1 columns]"
      ]
     },
     "metadata": {},
     "output_type": "display_data"
    },
    {
     "name": "stdout",
     "output_type": "stream",
     "text": [
      "{'distance': 51640.01489231361, 'time': 200.000060932}\n"
     ]
    }
   ],
   "source": [
    "popSize = 3\n",
    "nCanditates = 5\n",
    "mutationProb = 0.05\n",
    "\n",
    "output = !python TSPGenetic.py tsp1.txt {popSize} {nCanditates} {mutationProb}\n",
    "intermediateResults, finalResults = getResults(output)\n",
    "display(intermediateResults)\n",
    "print(finalResults)"
   ]
  }
 ],
 "metadata": {
  "kernelspec": {
   "display_name": "Python 3",
   "language": "python",
   "name": "python3"
  },
  "language_info": {
   "codemirror_mode": {
    "name": "ipython",
    "version": 3
   },
   "file_extension": ".py",
   "mimetype": "text/x-python",
   "name": "python",
   "nbconvert_exporter": "python",
   "pygments_lexer": "ipython3",
   "version": "3.8.8"
  }
 },
 "nbformat": 4,
 "nbformat_minor": 5
}
